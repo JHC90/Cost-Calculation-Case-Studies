{
 "cells": [
  {
   "cell_type": "code",
   "execution_count": 1,
   "metadata": {},
   "outputs": [],
   "source": [
    "import matplotlib.pyplot as plt\n",
    "import CostFunctionContainer\n",
    "import ipysheet\n",
    "import ipywidgets as widgets"
   ]
  },
  {
   "cell_type": "markdown",
   "metadata": {},
   "source": [
    "# Varibalen Eingang\n",
    "\n",
    "<b>Total</b><br>\n",
    "S = 200.000<br>\n",
    "TFC = 64.000<br>\n",
    "TVC = 120.000<br>\n",
    "<br>\n",
    "<b>Per Unit</b><br>\n",
    "SP = 20<br>\n",
    "VCU = 12<br>\n"
   ]
  },
  {
   "cell_type": "code",
   "execution_count": 2,
   "metadata": {},
   "outputs": [],
   "source": [
    "S = 200000\n",
    "TVC = 120000\n",
    "TFC = 64000\n",
    "\n",
    "SP = 20\n",
    "VCU = 12"
   ]
  },
  {
   "cell_type": "code",
   "execution_count": 3,
   "metadata": {},
   "outputs": [
    {
     "name": "stdout",
     "output_type": "stream",
     "text": [
      "80000 8 0.4 10000.0\n"
     ]
    }
   ],
   "source": [
    "# First Crosscalcluations, Basics for further CALCS\n",
    "# Contribution Margin\n",
    "CM = CostFunctionContainer.calcCM(TVC, S) # TOTAL\n",
    "CMU = CostFunctionContainer.calcCM(VCU, SP) # per UNIT\n",
    "CMR = CostFunctionContainer.calcCMR(TVC, S)\n",
    "\n",
    "\n",
    "# Sold Units \n",
    "X = CostFunctionContainer.calcX(S, SP)\n",
    "\n",
    "# Check\n",
    "print(CM, CMU, CMR, X)"
   ]
  },
  {
   "cell_type": "markdown",
   "metadata": {},
   "source": [
    "# a) Compute BEP"
   ]
  },
  {
   "cell_type": "code",
   "execution_count": 4,
   "metadata": {},
   "outputs": [
    {
     "name": "stdout",
     "output_type": "stream",
     "text": [
      "8000.0\n"
     ]
    }
   ],
   "source": [
    "# In units\n",
    "BEP_U = CostFunctionContainer.calcBEPUnits(TFC, VCU, SP)\n",
    "print(BEP_U)"
   ]
  },
  {
   "cell_type": "code",
   "execution_count": 5,
   "metadata": {},
   "outputs": [
    {
     "data": {
      "image/png": "[encoded data removed]",
      "text/plain": [
       "<Figure size 432x288 with 1 Axes>"
      ]
     },
     "metadata": {
      "needs_background": "light"
     },
     "output_type": "display_data"
    }
   ],
   "source": [
    "# Print the Plot\n",
    "CostFunctionContainer.printBEP(int(X), int(TFC), \n",
    "                                       int(VCU), SP, 0)"
   ]
  },
  {
   "cell_type": "code",
   "execution_count": 6,
   "metadata": {},
   "outputs": [
    {
     "name": "stdout",
     "output_type": "stream",
     "text": [
      "160000.0 160000.0\n"
     ]
    }
   ],
   "source": [
    "# BEP in Sales\n",
    "BEP_S1 = CostFunctionContainer.calcBEPSalesSimple(BEP_U, SP)\n",
    "BEP_S2 = CostFunctionContainer.calcBEPSalesWithCMR(TFC, VCU, SP)\n",
    "\n",
    "print(BEP_S1, BEP_S2)"
   ]
  },
  {
   "cell_type": "markdown",
   "metadata": {},
   "source": [
    "# Answer a)\n",
    "BEP is at the Point where we sold 8000 Units, which is equal to have a sales with 160000$"
   ]
  },
  {
   "cell_type": "markdown",
   "metadata": {},
   "source": [
    "# b) Target-Profit\n"
   ]
  },
  {
   "cell_type": "code",
   "execution_count": 7,
   "metadata": {},
   "outputs": [
    {
     "name": "stdout",
     "output_type": "stream",
     "text": [
      "94000\n"
     ]
    }
   ],
   "source": [
    "TP = 30000\n",
    "TFCnew = TFC + TP\n",
    "print(TFCnew)"
   ]
  },
  {
   "cell_type": "code",
   "execution_count": 8,
   "metadata": {},
   "outputs": [
    {
     "name": "stdout",
     "output_type": "stream",
     "text": [
      "11750.0\n"
     ]
    }
   ],
   "source": [
    "BEP_U_new = CostFunctionContainer.calcBEPUnits(TFCnew, VCU, SP)\n",
    "print(BEP_U_new)"
   ]
  },
  {
   "cell_type": "code",
   "execution_count": 9,
   "metadata": {},
   "outputs": [
    {
     "name": "stdout",
     "output_type": "stream",
     "text": [
      "235000.0\n"
     ]
    }
   ],
   "source": [
    "# Answer b)\n",
    "BEP_S1 = CostFunctionContainer.calcBEPSalesWithCMR(TFCnew, VCU, SP)\n",
    "print(BEP_S1)"
   ]
  },
  {
   "cell_type": "markdown",
   "metadata": {},
   "source": [
    "# Answer b)\n",
    "To warn a revenue with 30K \\$ you have to sell 11750 units, which is equal to a sales of 235000.0"
   ]
  },
  {
   "cell_type": "markdown",
   "metadata": {},
   "source": [
    "# c) Profits\n"
   ]
  },
  {
   "cell_type": "code",
   "execution_count": 10,
   "metadata": {},
   "outputs": [
    {
     "name": "stdout",
     "output_type": "stream",
     "text": [
      "0.4\n",
      "200000 225000\n",
      "10000.0 11250.0\n",
      "120000 135000.0\n"
     ]
    }
   ],
   "source": [
    "# CMRcalc alread done in the upper part\n",
    "print(CMR)\n",
    "\n",
    "# Sales new \n",
    "Snew = S + 25000 #new Sales\n",
    "Xnew = CostFunctionContainer.calcX(Snew, SP) # new Units Sold\n",
    "TVCnew = CostFunctionContainer.calcVC(Xnew, VCU)\n",
    "print(S, Snew)\n",
    "print(X, Xnew)\n",
    "print(TVC, TVCnew)"
   ]
  },
  {
   "cell_type": "code",
   "execution_count": 11,
   "metadata": {},
   "outputs": [
    {
     "name": "stdout",
     "output_type": "stream",
     "text": [
      "16000.0\n",
      "26000.0\n",
      "26000.0\n",
      "10000.0\n"
     ]
    }
   ],
   "source": [
    "profitOld =  CostFunctionContainer.calcProfitsimplePerUnit(X, TFC, VCU, SP)\n",
    "profitNew1 =  CostFunctionContainer.calcProfitsimplePerUnit(Xnew, TFC, VCU, SP)\n",
    "profitNew2 = CostFunctionContainer.calcProfitWithCMR(Snew, CMR, TFC)\n",
    "profitDelta = profitNew2 - profitOld\n",
    "\n",
    "print(profitOld)\n",
    "print(profitNew1)\n",
    "print(profitNew2)\n",
    "print(profitDelta)\n"
   ]
  },
  {
   "cell_type": "markdown",
   "metadata": {},
   "source": [
    "# Answer c)\n",
    "With a sales of 200K units the company will make a profit of 16000.0.<br>\n",
    "With a sales of 225K units the company will make a profit of 26000.0 .\n",
    "<br>\n",
    "Teh additional profit = 10000 ."
   ]
  },
  {
   "cell_type": "markdown",
   "metadata": {},
   "source": [
    "# d) Target Profit\n",
    "Gesucht ist die Menge und damit auch der Sales bei welchem das OI/Profit = 20% vom Sales ist.\n",
    "\n",
    "## Rechenweg im Beispiel\n",
    "\n",
    "\\begin{align}\n",
    "P = S - TVC - TFC = 0.2 * S\n",
    "\\end{align}\n",
    "\n",
    "Für die Lösung rechnen wir auf Stück Um \n",
    "\n",
    "\n",
    "\\begin{align}\n",
    "(SP * X) - (VCU * X) - TFC = 0.2 * SP * X\n",
    "\\end{align}\n",
    "\n",
    "Umstellen\n",
    "\n",
    "\n",
    "\\begin{align}\n",
    "(SP * X) - (VCU * X) - (0.2 * SP * X) = TFC\n",
    "\\end{align}\n",
    "\n",
    "X Ausklammern\n",
    "\n",
    "\n",
    "\\begin{align}\n",
    "X(SP-VCU-0,2SP) = TFC\n",
    "\\end{align}\n",
    "\n",
    "Nach x Auflösen\n",
    "\n",
    "\\begin{align}\n",
    "X = \\frac{TFC}{(SP-VCU-0,2SP)}\n",
    "\\end{align}\n",
    "\n",
    "Einsetzen\n",
    "\n",
    "\\begin{align}\n",
    "X = \\frac{64000}{(20-12-4)} = 16000\n",
    "\\end{align}\n",
    "\n",
    "\n",
    "\n",
    "\n"
   ]
  },
  {
   "cell_type": "code",
   "execution_count": 12,
   "metadata": {},
   "outputs": [],
   "source": [
    "percentage = 0.2"
   ]
  },
  {
   "cell_type": "code",
   "execution_count": 13,
   "metadata": {},
   "outputs": [
    {
     "name": "stdout",
     "output_type": "stream",
     "text": [
      "16000.0\n"
     ]
    }
   ],
   "source": [
    "# Calc Units for 20%\n",
    "X20p = (TFC/(SP-VCU-(SP*percentage)))\n",
    "print(X20p)"
   ]
  },
  {
   "cell_type": "code",
   "execution_count": 14,
   "metadata": {},
   "outputs": [
    {
     "name": "stdout",
     "output_type": "stream",
     "text": [
      "320000.0\n"
     ]
    }
   ],
   "source": [
    "# Calc the Sales for the Amount\n",
    "SX20p = X20p * SP\n",
    "print(SX20p)"
   ]
  },
  {
   "cell_type": "code",
   "execution_count": 15,
   "metadata": {},
   "outputs": [
    {
     "name": "stdout",
     "output_type": "stream",
     "text": [
      "64000.0\n",
      "0.2\n"
     ]
    }
   ],
   "source": [
    "# profit\n",
    "profitX20p = CostFunctionContainer.calcProfitsimplePerUnit(X20p, TFC, VCU, SP)\n",
    "print(profitX20p)\n",
    "# Verification\n",
    "print(profitX20p/SX20p)"
   ]
  },
  {
   "cell_type": "markdown",
   "metadata": {},
   "source": [
    "# Answer d)\n",
    "Für 20% profit muss ein Umsatz von 320.000 $ / 16.000 Units generiert werden. Der Profit/OI = 64000.0 in diesem Beispiel"
   ]
  },
  {
   "cell_type": "markdown",
   "metadata": {},
   "source": [
    "# Information\n",
    "Im [Glossar](./Glossar.ipynb) sind die einzelnen Kennzahlen beschrieben.<br>\n",
    "In der [Checkliste](./Checkliste.ipynb) ist eine Vorgehensweise hinterlegt wie man die Porbleme Schrittweise downtaggelt. <br>\n",
    "Die Funktionen wiederum sind in dem File [CostFunctionContainer.py](./CostFunctionContainer.py) hinterlegt und werden in der ersten Zeile als Import gelistet.\n"
   ]
  }
 ],
 "metadata": {
  "kernelspec": {
   "display_name": "Python 3",
   "language": "python",
   "name": "python3"
  },
  "language_info": {
   "codemirror_mode": {
    "name": "ipython",
    "version": 3
   },
   "file_extension": ".py",
   "mimetype": "text/x-python",
   "name": "python",
   "nbconvert_exporter": "python",
   "pygments_lexer": "ipython3",
   "version": "3.7.4"
  }
 },
 "nbformat": 4,
 "nbformat_minor": 2
}
