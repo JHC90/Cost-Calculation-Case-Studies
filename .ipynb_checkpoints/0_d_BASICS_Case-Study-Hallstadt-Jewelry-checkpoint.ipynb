{
 "cells": [
  {
   "cell_type": "code",
   "execution_count": 98,
   "metadata": {},
   "outputs": [],
   "source": [
    "import matplotlib.pyplot as plt\n",
    "import CostFunctionContainer\n",
    "import ipysheet\n",
    "import ipywidgets as widgets"
   ]
  },
  {
   "cell_type": "markdown",
   "metadata": {},
   "source": [
    "# Angabe"
   ]
  },
  {
   "cell_type": "markdown",
   "metadata": {},
   "source": [
    "# Varibalen Eingang\n",
    "\n",
    "# in diese [Exceltabelle](./BasicInformationGathering/BasicinsightsSombrero.xlsx)  erstellt und mit folgender  [URL](https://convertio.co/de/xlsx-html/) in eine HTML-Tabelle konvertiert\n",
    "\n"
   ]
  },
  {
   "cell_type": "markdown",
   "metadata": {},
   "source": [
    "# 0 Werte einbinden"
   ]
  },
  {
   "cell_type": "code",
   "execution_count": 99,
   "metadata": {},
   "outputs": [
    {
     "name": "stdout",
     "output_type": "stream",
     "text": [
      "3828 3565 4605\n",
      "0.7167197154090994 0.6706170052671181 0.6676816006959547\n",
      "0.890282718592024 0.8534612490594432 0.8853124546904452\n"
     ]
    }
   ],
   "source": [
    "TFC_2003 = 3250\n",
    "TFC_2004 = 3353\n",
    "TFC_2006 = 5011\n",
    "\n",
    "TVC_2003 = 4755\n",
    "TVC_2004 = 4537\n",
    "TVC_2006 = 6106\n",
    "\n",
    "S_2003 = 8583 \n",
    "S_2004 = 8102 \n",
    "S_2006 = 10711\n",
    "\n",
    "CM_2003 = CostFunctionContainer.calcCM(TVC_2003, S_2003)\n",
    "CM_2004 = CostFunctionContainer.calcCM(TVC_2004, S_2004)\n",
    "CM_2006 = CostFunctionContainer.calcCM(TVC_2006, S_2006)\n",
    "print(CM_2003, CM_2004, CM_2006)\n",
    "\n",
    "# X in the Years\n",
    "X_2003 = 5341\n",
    "X_2004 = 5316\n",
    "X_2006 = 6897\n",
    "\n",
    "# SP / unit in tickets\n",
    "SP_2003 = S_2003 / X_2003\n",
    "SP_2004 = S_2004 / X_2004\n",
    "SP_2006 = S_2006 / X_2006\n",
    "\n",
    "# Development of the CM / unit = CMR\n",
    "CMR_2003 = CM_2003 / X_2003\n",
    "CMR_2004 = CM_2004 / X_2004\n",
    "CMR_2006 = CM_2006 / X_2006\n",
    "print(CMR_2003, CMR_2004, CMR_2006)\n",
    "\n",
    "# Development of the VCU / unit = CMR\n",
    "VCU_2003 = TVC_2003 / X_2003\n",
    "VCU_2004 = TVC_2004 / X_2004\n",
    "VCU_2006 = TVC_2006 / X_2006\n",
    "print(VCU_2003, VCU_2004, VCU_2006)\n"
   ]
  },
  {
   "cell_type": "markdown",
   "metadata": {},
   "source": [
    "# Questions\n",
    "## A) return BEPU / BEPS / Margin Safety of all three Years"
   ]
  },
  {
   "cell_type": "code",
   "execution_count": 100,
   "metadata": {},
   "outputs": [],
   "source": [
    "# BEP / units\n",
    "BEP_U_2003 = CostFunctionContainer.calcBEPUnitsWithCMR(TFC_2003, CMR_2003)\n",
    "BEP_U_2004 = CostFunctionContainer.calcBEPUnitsWithCMR(TFC_2004, CMR_2004)\n",
    "BEP_U_2006 = CostFunctionContainer.calcBEPUnitsWithCMR(TFC_2006, CMR_2006)\n",
    "\n",
    "# BEP / Sales\n",
    "BEP_S_2003 = CostFunctionContainer.calcBEPSalesSimple(BEP_U_2003, SP_2003)\n",
    "BEP_S_2004 = CostFunctionContainer.calcBEPSalesSimple(BEP_U_2004, SP_2004)\n",
    "BEP_S_2006 = CostFunctionContainer.calcBEPSalesSimple(BEP_U_2006, SP_2006)\n",
    "\n",
    "# MarginOfSafety\n",
    "# MS = OI - BEP\n",
    "\n",
    "MS_2003 = S_2003 - BEP_S_2003\n",
    "MS_2004 = S_2003 - BEP_S_2004\n",
    "MS_2006 = S_2003 - BEP_S_2006\n",
    "\n"
   ]
  },
  {
   "cell_type": "code",
   "execution_count": 101,
   "metadata": {},
   "outputs": [
    {
     "name": "stdout",
     "output_type": "stream",
     "text": [
      "Break-Even-Units:\n",
      "4534.548066875654 4999.873211781207 7505.0742671009775\n",
      "\n",
      "['2003', '2004', '2006']\n"
     ]
    },
    {
     "data": {
      "image/png": "[encoded data removed]",
      "text/plain": [
       "<Figure size 432x288 with 1 Axes>"
      ]
     },
     "metadata": {
      "needs_background": "light"
     },
     "output_type": "display_data"
    }
   ],
   "source": [
    "# BEP UNITS\n",
    "print(\"Break-Even-Units:\")\n",
    "print(BEP_U_2003, BEP_U_2004, BEP_U_2006)\n",
    "print()\n",
    "\n",
    "\n",
    "import matplotlib.pyplot as plt\n",
    "# die X-Werte:\n",
    "days = [\"2003\", \"2004\", \"2006\"]\n",
    "print(days)\n",
    "# die Y-Werte:\n",
    "celsius_values = [BEP_U_2003, BEP_U_2004, BEP_U_2006]\n",
    "plt.plot(days, celsius_values)\n",
    "plt.show()"
   ]
  },
  {
   "cell_type": "code",
   "execution_count": 102,
   "metadata": {},
   "outputs": [
    {
     "name": "stdout",
     "output_type": "stream",
     "text": [
      "Break-Even-Sales:\n",
      "7287.029780564264 7620.19803646564 11655.33572204126\n",
      "\n",
      "['2003', '2004', '2006']\n"
     ]
    },
    {
     "data": {
      "image/png": "[encoded data removed]",
      "text/plain": [
       "<Figure size 432x288 with 1 Axes>"
      ]
     },
     "metadata": {
      "needs_background": "light"
     },
     "output_type": "display_data"
    }
   ],
   "source": [
    "# BEP SALES\n",
    "print(\"Break-Even-Sales:\")\n",
    "print(BEP_S_2003, BEP_S_2004, BEP_S_2006)\n",
    "print()\n",
    "\n",
    "\n",
    "import matplotlib.pyplot as plt\n",
    "# die X-Werte:\n",
    "days = [\"2003\", \"2004\", \"2006\"]\n",
    "print(days)\n",
    "# die Y-Werte:\n",
    "celsius_values = [BEP_S_2003, BEP_S_2004, BEP_S_2006]\n",
    "plt.plot(days, celsius_values)\n",
    "plt.show()"
   ]
  },
  {
   "cell_type": "code",
   "execution_count": 103,
   "metadata": {},
   "outputs": [
    {
     "name": "stdout",
     "output_type": "stream",
     "text": [
      "MarginSafety:\n",
      "1295.970219435736 962.8019635343599 -3072.33572204126\n",
      "\n",
      "['2003', '2004', '2006']\n"
     ]
    },
    {
     "data": {
      "image/png": "[encoded data removed]",
      "text/plain": [
       "<Figure size 432x288 with 1 Axes>"
      ]
     },
     "metadata": {
      "needs_background": "light"
     },
     "output_type": "display_data"
    }
   ],
   "source": [
    "# Margin of Safety\n",
    "print(\"MarginSafety:\")\n",
    "print(MS_2003, MS_2004, MS_2006)\n",
    "print()\n",
    "\n",
    "import matplotlib.pyplot as plt\n",
    "# die X-Werte:\n",
    "days = [\"2003\", \"2004\", \"2006\"]\n",
    "print(days)\n",
    "# die Y-Werte:\n",
    "celsius_values = [MS_2003, MS_2004, MS_2006]\n",
    "plt.plot(days, celsius_values)\n",
    "plt.show()"
   ]
  },
  {
   "cell_type": "markdown",
   "metadata": {},
   "source": [
    "## Antowrt a)\n",
    "Dadurch dass der BEP sowohl in Sales auch in Numbers erheblich gestiegen ist, verursacht durch höhrere TFC & TVC, zeitgleich der Sales aber nicht entsprechend gestiegten ist. Hat man im Jahr 2006 einen Negativen MS => macht einen Verlust"
   ]
  },
  {
   "cell_type": "markdown",
   "metadata": {},
   "source": [
    "## Aufgabe b)\n",
    "Ändere die Priese um 10% um 7500 mehr Customer reinzuholen, Was ist der neue BEP & SALES & Units\n",
    "\n",
    " änderer avg Sales Ticket um 0,1 und Customer auf 7500"
   ]
  },
  {
   "cell_type": "code",
   "execution_count": 104,
   "metadata": {},
   "outputs": [
    {
     "name": "stdout",
     "output_type": "stream",
     "text": [
      "10699924.0\n",
      "10471099.156589821\n"
     ]
    }
   ],
   "source": [
    "SPOld = 1553\n",
    "XOLD = 6897\n",
    "profitOld = CostFunctionContainer.calcProfitsimplePerUnit(XOLD, TFC_2006, VCU_2006, SPOld)\n",
    "print(profitOld)\n",
    "\n",
    "discount = 0.1\n",
    "SPNEW = 1553 * (1-discount)\n",
    "XNEW = 7500\n",
    "profitNEW =CostFunctionContainer.calcProfitsimplePerUnit(XNEW, TFC_2006, VCU_2006, SPNEW)\n",
    "print(profitNEW)\n"
   ]
  },
  {
   "cell_type": "markdown",
   "metadata": {},
   "source": [
    "## Antowrt b)\n",
    "Der Neue Profit ist geringer als der Alte => gibt keinen Sinn den Discount zu geben"
   ]
  },
  {
   "cell_type": "markdown",
   "metadata": {},
   "source": [
    "## Aufgabe c)\n",
    "Eliminate Comission => wirkt sich auf die TVC aus\n"
   ]
  },
  {
   "cell_type": "code",
   "execution_count": 105,
   "metadata": {},
   "outputs": [
    {
     "name": "stdout",
     "output_type": "stream",
     "text": [
      "-782.47807958882\n"
     ]
    }
   ],
   "source": [
    "TVC_new = TVC_2006 - 536\n",
    "CMR_new =  CostFunctionContainer.calcCM(TVC_new, S_2006)\n",
    "X_new = X_2006 # ändert sich nicht\n",
    "CMPerUnew = CMR_new/X_new\n",
    "BEPU_new = CostFunctionContainer.calcBEPUnitsWithCMR(TFC_2006, CMPerUnew)\n",
    "BEPUDelta = BEPU_new- BEP_U_2006\n",
    "print(BEPUDelta) \n"
   ]
  },
  {
   "cell_type": "markdown",
   "metadata": {},
   "source": [
    "## Antowrt c)\n",
    "Durch das weglassen der Commission sinkt der BEPin units um 783\n",
    "Frage ob der Verkauf dann noch so gut läuft"
   ]
  },
  {
   "cell_type": "markdown",
   "metadata": {},
   "source": [
    "## Aufgabe d)\n",
    "Advertisment um 200.000 hoch => Auswirkung auf den BEP?\n",
    "Advertisment = FIXED COST\n"
   ]
  },
  {
   "cell_type": "code",
   "execution_count": 106,
   "metadata": {},
   "outputs": [
    {
     "name": "stdout",
     "output_type": "stream",
     "text": [
      "7505.0742671009775\n",
      "7804.618241042345\n"
     ]
    }
   ],
   "source": [
    "TFCNew = TFC_2006 + 200\n",
    "BEPU_new = CostFunctionContainer.calcBEPUnitsWithCMR(TFCNew, CMR_2006)\n",
    "print(BEP_U_2006)\n",
    "print(BEPU_new)"
   ]
  },
  {
   "cell_type": "markdown",
   "metadata": {},
   "source": [
    "## Antwort d)\n",
    "Mit dem neuen BEP müssten 300 zusätzliche Einheiten verkauft werden => ohne die Auswirkung zu kennen kann man hierzu nichts sagen"
   ]
  },
  {
   "cell_type": "markdown",
   "metadata": {},
   "source": [
    "## Aufgabe e)\n",
    "Wie viel höher müsste der Neue Ticket presis sein , gesetzt Wenn TFC konstant  und x Konstant\n",
    "\n",
    "\\begin{align}\n",
    "P = SNew - TVC - TFC = 0\n",
    "\\end{align}\n",
    "\n",
    "\\begin{align}\n",
    "SPNew * X = TFC + VCU*X \n",
    "\\end{align}\n",
    "\n",
    "\\begin{align}\n",
    "SPNew  = \\frac{TFC + (VCU*X) }{X} = \n",
    "\\end{align}\n"
   ]
  },
  {
   "cell_type": "code",
   "execution_count": 107,
   "metadata": {},
   "outputs": [
    {
     "name": "stdout",
     "output_type": "stream",
     "text": [
      "1.6118602290851094\n",
      "1.5529940553864\n",
      "0.0588661736987095\n"
     ]
    }
   ],
   "source": [
    "SPnew = ((TFC_2006+VCU_2006*X_2006)/X_2006)\n",
    "print(SPnew)\n",
    "print(SP_2006)\n",
    "print(SPnew-SP_2006)"
   ]
  },
  {
   "cell_type": "markdown",
   "metadata": {},
   "source": [
    "## Antwort e)\n",
    "Der neue SP müsste 16111...sein"
   ]
  },
  {
   "cell_type": "markdown",
   "metadata": {},
   "source": [
    "# Information\n",
    "Im [Glossar](./Glossar.ipynb) sind die einzelnen Kennzahlen beschrieben.<br>\n",
    "In der [Checkliste](./Checkliste.ipynb) ist eine Vorgehensweise hinterlegt wie man die Porbleme Schrittweise downtaggelt. <br>\n",
    "Die Funktionen wiederum sind in dem File [CostFunctionContainer.py](./CostFunctionContainer.py) hinterlegt und werden in der ersten Zeile als Import gelistet.\n"
   ]
  }
 ],
 "metadata": {
  "kernelspec": {
   "display_name": "Python 3",
   "language": "python",
   "name": "python3"
  },
  "language_info": {
   "codemirror_mode": {
    "name": "ipython",
    "version": 3
   },
   "file_extension": ".py",
   "mimetype": "text/x-python",
   "name": "python",
   "nbconvert_exporter": "python",
   "pygments_lexer": "ipython3",
   "version": "3.7.4"
  }
 },
 "nbformat": 4,
 "nbformat_minor": 2
}
