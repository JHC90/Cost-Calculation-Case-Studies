{
 "cells": [
  {
   "cell_type": "markdown",
   "metadata": {},
   "source": [
    "## Relevant & irrelevant Cost\n",
    "Die Kosten, welche sich nicht auf eine Entscheidung(Alternative A oder B) auswirken. BSP in folgendem Exampel sind die Designing-Cost gänzlich gleichgültig und können somit außer Acht gelassen werden\n"
   ]
  },
  {
   "cell_type": "markdown",
   "metadata": {},
   "source": [
    "## Quantity || Q\n",
    "Menge eines Produktes"
   ]
  },
  {
   "cell_type": "markdown",
   "metadata": {},
   "source": [
    "## Total fixed Cost || TFC\n",
    "Die Fix-Kosten (nicht runtergebrochen) | Normalerweise werden die aus der Angabe entnommen und aufsummiert"
   ]
  },
  {
   "cell_type": "markdown",
   "metadata": {},
   "source": [
    "## Total Variablen Cost || TVC\n",
    "Die Variablen-Kosten (nicht runtergebrochen) | Normalerweise werden die aus der Angabe entnommen und aufsummiert"
   ]
  },
  {
   "cell_type": "markdown",
   "metadata": {},
   "source": [
    "## Fixed Cost  || FC =   TFC/Q\n",
    "Alle fixen Kosten werden auf die produzierten Teile umgerechnet"
   ]
  },
  {
   "cell_type": "markdown",
   "metadata": {},
   "source": [
    "## Variable Cost || VC =   TVC/Q\n",
    "Alle Variablen Kosten werden auf die produzierten Teile umgerechnet"
   ]
  },
  {
   "cell_type": "markdown",
   "metadata": {},
   "source": [
    "## Selling Price || SP\n",
    "Verkaufspreis pro Stück"
   ]
  },
  {
   "cell_type": "markdown",
   "metadata": {},
   "source": [
    "Sales || S\n",
    "Das ist der Selling Price multiplizert mit der Quantity Menge der verkauften Produkte"
   ]
  },
  {
   "cell_type": "markdown",
   "metadata": {},
   "source": [
    "## Contribution Margin || CM = s- vc\n",
    "Der Contribution Margin (Deckungsbeitrag) ist jener Betrag den der Verkauf der Produkte zum decken der Kosten und später zum Erwirtschaften von Gewinn nötig ist"
   ]
  },
  {
   "cell_type": "markdown",
   "metadata": {},
   "source": [
    "## Operating Income = CM - fixed expense\n",
    "Zieht man vom CM / Deckungsbeitrag das fixed expense ab, so erhält man den Operating Income. Das ist jener Betrag der Ausschließlich für den Gewinn verantwortlich ist\n",
    "\n",
    "<code>\n",
    "    def returnProfit(SP, VC, X, TFC):\n",
    "        return(SP*X-VC*X-TFC)\n",
    "    \n",
    "    returnProfit(5,3,10,4)\n",
    "    # 16 = 5*10-3*10-4 \n",
    "</code>\n"
   ]
  },
  {
   "cell_type": "markdown",
   "metadata": {},
   "source": [
    "## Break-Even-Point\n",
    "Jene Stelle an der das Produkt so viel erwirtschaftet hatmsodass es die Kosten trägt"
   ]
  },
  {
   "cell_type": "code",
   "execution_count": 1,
   "metadata": {},
   "outputs": [],
   "source": []
  },
  {
   "cell_type": "code",
   "execution_count": 2,
   "metadata": {},
   "outputs": [
    {
     "data": {
      "text/plain": [
       "16"
      ]
     },
     "execution_count": 2,
     "metadata": {},
     "output_type": "execute_result"
    }
   ],
   "source": []
  }
 ],
 "metadata": {
  "kernelspec": {
   "display_name": "Python 3",
   "language": "python",
   "name": "python3"
  },
  "language_info": {
   "codemirror_mode": {
    "name": "ipython",
    "version": 3
   },
   "file_extension": ".py",
   "mimetype": "text/x-python",
   "name": "python",
   "nbconvert_exporter": "python",
   "pygments_lexer": "ipython3",
   "version": "3.7.3"
  }
 },
 "nbformat": 4,
 "nbformat_minor": 2
}
