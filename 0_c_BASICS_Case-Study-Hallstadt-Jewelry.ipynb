{
 "cells": [
  {
   "cell_type": "code",
   "execution_count": 1,
   "metadata": {},
   "outputs": [],
   "source": [
    "import matplotlib.pyplot as plt\n",
    "import CostFunctionContainer\n",
    "import ipysheet\n",
    "import ipywidgets as widgets"
   ]
  },
  {
   "cell_type": "markdown",
   "metadata": {},
   "source": [
    "# Angabe"
   ]
  },
  {
   "cell_type": "markdown",
   "metadata": {},
   "source": [
    "# Varibalen Eingang\n",
    "\n",
    "# in diese [Exceltabelle](./BasicInformationGathering/BasicinsightsSombrero.xlsx)  erstellt und mit folgender  [URL](https://convertio.co/de/xlsx-html/) in eine HTML-Tabelle konvertiert\n",
    "\n"
   ]
  },
  {
   "cell_type": "markdown",
   "metadata": {},
   "source": [
    "# 0 Werte einbinden"
   ]
  },
  {
   "cell_type": "code",
   "execution_count": 4,
   "metadata": {},
   "outputs": [],
   "source": [
    "TFC_2003 = 3250\n",
    "TFC_2004 = 3353\n",
    "TFC_2006 = 5011\n",
    "\n",
    "TVC_2003 = 4755\n",
    "TVC_2004 = 4537\n",
    "TVC_2006 = 6106\n",
    "\n",
    "S_2003 = 8583 \n",
    "S_2004 = 8102 \n",
    "S_2006 = 10711\n",
    "\n",
    "CM_2003 = S_2003 -TVC_2003\n",
    "CM_2004 = S_2004 -TVC_2004\n",
    "CM_2006 = S_2006 -TVC_2006\n"
   ]
  },
  {
   "cell_type": "code",
   "execution_count": 5,
   "metadata": {},
   "outputs": [],
   "source": [
    "# a ) Clac BEP(Number Salestickets), BEP(Dollars) in all years\n"
   ]
  },
  {
   "cell_type": "code",
   "execution_count": null,
   "metadata": {},
   "outputs": [],
   "source": []
  },
  {
   "cell_type": "code",
   "execution_count": null,
   "metadata": {},
   "outputs": [],
   "source": []
  },
  {
   "cell_type": "markdown",
   "metadata": {},
   "source": [
    "# Information\n",
    "Im [Glossar](./Glossar.ipynb) sind die einzelnen Kennzahlen beschrieben.<br>\n",
    "In der [Checkliste](./Checkliste.ipynb) ist eine Vorgehensweise hinterlegt wie man die Porbleme Schrittweise downtaggelt. <br>\n",
    "Die Funktionen wiederum sind in dem File [CostFunctionContainer.py](./CostFunctionContainer.py) hinterlegt und werden in der ersten Zeile als Import gelistet.\n"
   ]
  }
 ],
 "metadata": {
  "kernelspec": {
   "display_name": "Python 3",
   "language": "python",
   "name": "python3"
  },
  "language_info": {
   "codemirror_mode": {
    "name": "ipython",
    "version": 3
   },
   "file_extension": ".py",
   "mimetype": "text/x-python",
   "name": "python",
   "nbconvert_exporter": "python",
   "pygments_lexer": "ipython3",
   "version": "3.7.4"
  }
 },
 "nbformat": 4,
 "nbformat_minor": 2
}
