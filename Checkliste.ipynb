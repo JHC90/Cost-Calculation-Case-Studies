{
 "cells": [
  {
   "cell_type": "markdown",
   "metadata": {},
   "source": [
    "# Checkliste\n",
    "Hier eine Beschreibung wie man Step-Wise vorgeht"
   ]
  },
  {
   "cell_type": "markdown",
   "metadata": {},
   "source": [
    "## BEP-Analytics\n",
    "<ol>\n",
    "    <li>Aus der Angabe Informationen herausfiltern // sprich lesen oder annehmen</li>\n",
    "    <ol>\n",
    "        <li>Menge verkaufter Produkte</li>\n",
    "        <li>Fixed-Cost</li>\n",
    "        <li>Variable-Cost</li>\n",
    "        <li>Fixed-Cost/Unit</li>\n",
    "        <li>Variable-Cost/Unit</li>\n",
    "        <li>Sales</li>\n",
    "        <li>Selling-Price</li>\n",
    "        <li>...</li>   \n",
    "    </ol>\n",
    "    <li> <a href= \"./0_BASICS.ipynb\">Calculate Basics</a> </li>\n",
    "    <ol>\n",
    "        <li>Profit</li>\n",
    "        <li>Deckungsbeitrag / Contributional Margin</li>\n",
    "        <li>BEP</li>\n",
    "        <ol>\n",
    "            <li>per Unit</li>\n",
    "            <li>per Sales</li>\n",
    "            <li>Graphics</li> \n",
    "        </ol>\n",
    "        <li>Target-Profit</li>\n",
    "        <li>Sicherheitspuffer</li>\n",
    "    </ol>\n",
    "\n",
    "</ol>"
   ]
  }
 ],
 "metadata": {
  "kernelspec": {
   "display_name": "Python 3",
   "language": "python",
   "name": "python3"
  },
  "language_info": {
   "codemirror_mode": {
    "name": "ipython",
    "version": 3
   },
   "file_extension": ".py",
   "mimetype": "text/x-python",
   "name": "python",
   "nbconvert_exporter": "python",
   "pygments_lexer": "ipython3",
   "version": "3.7.3"
  }
 },
 "nbformat": 4,
 "nbformat_minor": 2
}
