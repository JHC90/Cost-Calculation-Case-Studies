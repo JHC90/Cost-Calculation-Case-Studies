{
 "cells": [
  {
   "cell_type": "markdown",
   "metadata": {},
   "source": [
    "## Relevant & irrelevant Cost\n",
    "Die Kosten, welche sich nicht auf eine Entscheidung(Alternative A oder B) auswirken. BSP in folgendem Exampel sind die Designing-Cost gänzlich gleichgültig und können somit außer Acht gelassen werden\n"
   ]
  },
  {
   "cell_type": "markdown",
   "metadata": {},
   "source": [
    "## Quantity || X or Q\n",
    "Menge eines Produktes (meistens die Stück die Verkauft werden/wurden)"
   ]
  },
  {
   "cell_type": "markdown",
   "metadata": {},
   "source": [
    "Expenses = Cost<br>\n",
    "CVP-Analysis = Cost Volume Profit Analysis"
   ]
  },
  {
   "cell_type": "markdown",
   "metadata": {},
   "source": [
    "## Total fixed Cost / Fixed Expenses || TFC\n",
    "Die Fix-Kosten (nicht runtergebrochen) | Normalerweise werden die aus der Angabe entnommen und aufsummiert"
   ]
  },
  {
   "cell_type": "markdown",
   "metadata": {},
   "source": [
    "## Total Variablen Cost || TVC\n",
    "Die Variablen-Kosten (nicht runtergebrochen) | Normalerweise werden die aus der Angabe entnommen und aufsummiert"
   ]
  },
  {
   "cell_type": "markdown",
   "metadata": {},
   "source": [
    "## Fixed Cost  || FC =   TFC/Q\n",
    "Alle fixen Kosten werden auf die produzierten Teile umgerechnet| Normalerweise werden die aus der Angabe entnommen und aufsummiert\n",
    "\n",
    "\\begin{align}\n",
    "FC = TFC / X\n",
    "\\end{align}"
   ]
  },
  {
   "cell_type": "markdown",
   "metadata": {},
   "source": [
    "## Variable Cost || VC =   TVC/Q\n",
    "Alle Variablen Kosten werden auf die produzierten Teile umgerechnet| Normalerweise werden die aus der Angabe entnommen und aufsummiert\n",
    "\n",
    "\\begin{align}\n",
    "VC = TVC / X\n",
    "\\end{align}"
   ]
  },
  {
   "cell_type": "markdown",
   "metadata": {},
   "source": [
    "## Selling Price || SP\n",
    "Verkaufspreis pro Stück | Normalerweise werden die aus der Angabe entnommen und aufsummiert\n",
    "\n",
    "\\begin{align}\n",
    "SP = S / X\n",
    "\\end{align}"
   ]
  },
  {
   "cell_type": "markdown",
   "metadata": {},
   "source": [
    "## Sales \n",
    "Das ist der Selling Price multiplizert mit der Quantity Menge der verkauften Produkte\n",
    "\n",
    "\\begin{align}\n",
    "S = X * SP\n",
    "\\end{align}"
   ]
  },
  {
   "cell_type": "markdown",
   "metadata": {},
   "source": [
    "## Contribution Margin\n",
    "Der Contribution Margin (Deckungsbeitrag) ist jener Betrag den der Verkauf der Produkte zum decken der Kosten und später zum Erwirtschaften von Gewinn nötig ist\n",
    "\\begin{align}\n",
    "CM = S - VC\n",
    "\\end{align}"
   ]
  },
  {
   "cell_type": "markdown",
   "metadata": {},
   "source": [
    "## Contribution Margin Ratio CMR\n",
    "\n",
    "\n",
    "\\begin{align}\n",
    "CMR = CM/S\n",
    "\\end{align}"
   ]
  },
  {
   "cell_type": "markdown",
   "metadata": {},
   "source": [
    "## Contribution/Unit || CU\n",
    "Der Contribution Margin (Deckungsbeitrag) ist jener Betrag den der Verkauf der Produkte zum decken der Kosten und später zum Erwirtschaften von Gewinn nötig ist\n",
    "\\begin{align}\n",
    "CU = (SP/U) - (VC/U)\n",
    "\\end{align}"
   ]
  },
  {
   "cell_type": "markdown",
   "metadata": {},
   "source": [
    "## Operating Income  || OI\n",
    "Zieht man vom CM / Deckungsbeitrag das fixed expense(TFC) ab, so erhält man den Operating Income(Rein-Gewinn). Das ist jener Betrag der Ausschließlich für den Gewinn verantwortlich ist\n",
    "\n",
    "\\begin{align}\n",
    "OI = S - VC - FC = CM -FC\n",
    "\\end{align}\n"
   ]
  },
  {
   "cell_type": "markdown",
   "metadata": {},
   "source": [
    "## Break-Even-Point || BEP\n",
    "Jene Stelle an der das Produkt so viel erwirtschaftet hatmsodass es die Kosten trägt. Also ein bestimmter Punkt im OI\n",
    "\n",
    "1te Möglichkeit\n",
    "\\begin{align}\n",
    "0 = BEP = S - VC- FC\n",
    "\\end{align}\n",
    "\n",
    "BEP in units\n",
    "\n",
    "\\begin{align}\n",
    "BEP(inUnits) = \\frac{FC}{C/X}\n",
    "\\end{align}\n",
    "\n",
    "BEP Sales Revenue\n",
    "\n",
    "\\begin{align}\n",
    "BEP(SalesRevenue) = \\frac{FC}{CMR}\n",
    "\\end{align}"
   ]
  },
  {
   "cell_type": "code",
   "execution_count": 128,
   "metadata": {},
   "outputs": [
    {
     "data": {
      "image/png": "[encoded data removed]",
      "text/plain": [
       "<Figure size 432x288 with 1 Axes>"
      ]
     },
     "metadata": {
      "needs_background": "light"
     },
     "output_type": "display_data"
    }
   ],
   "source": [
    "# TFC, VC, Q, SP\n",
    "printBEP(1000,10,40,50)"
   ]
  },
  {
   "cell_type": "code",
   "execution_count": null,
   "metadata": {},
   "outputs": [],
   "source": []
  },
  {
   "cell_type": "code",
   "execution_count": null,
   "metadata": {},
   "outputs": [],
   "source": []
  }
 ],
 "metadata": {
  "kernelspec": {
   "display_name": "Python 3",
   "language": "python",
   "name": "python3"
  },
  "language_info": {
   "codemirror_mode": {
    "name": "ipython",
    "version": 3
   },
   "file_extension": ".py",
   "mimetype": "text/x-python",
   "name": "python",
   "nbconvert_exporter": "python",
   "pygments_lexer": "ipython3",
   "version": "3.7.3"
  }
 },
 "nbformat": 4,
 "nbformat_minor": 2
}
