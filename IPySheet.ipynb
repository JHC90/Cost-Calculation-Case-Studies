{
 "cells": [
  {
   "cell_type": "code",
   "execution_count": 23,
   "metadata": {},
   "outputs": [
    {
     "data": {
      "application/vnd.jupyter.widget-view+json": {
       "model_id": "4ba2c50aefec42b19fb7d09fd520a68d",
       "version_major": 2,
       "version_minor": 0
      },
      "text/plain": [
       "Sheet(columns=5, layout=Layout(height='auto', width='auto'), rows=5)"
      ]
     },
     "metadata": {},
     "output_type": "display_data"
    }
   ],
   "source": [
    "import ipysheet\n",
    "sheet = ipysheet.sheet()\n",
    "sheet"
   ]
  },
  {
   "cell_type": "code",
   "execution_count": 24,
   "metadata": {},
   "outputs": [
    {
     "data": {
      "application/vnd.jupyter.widget-view+json": {
       "model_id": "4881e63389024164ba8044e2259682f8",
       "version_major": 2,
       "version_minor": 0
      },
      "text/plain": [
       "Sheet(cells=(Cell(column_end=0, column_start=0, row_end=0, row_start=0, type='text', value='Hello'), Cell(colu…"
      ]
     },
     "metadata": {},
     "output_type": "display_data"
    }
   ],
   "source": [
    "sheet = ipysheet.sheet(rows=3, columns=4)\n",
    "cell1 = ipysheet.cell(0, 0, 'Hello')\n",
    "cell2 = ipysheet.cell(2, 0, 'World')\n",
    "cell_value = ipysheet.cell(2,2, 42.)\n",
    "sheet\n"
   ]
  },
  {
   "cell_type": "code",
   "execution_count": 25,
   "metadata": {},
   "outputs": [
    {
     "data": {
      "application/vnd.jupyter.widget-view+json": {
       "model_id": "1cf65074abfa4ed39b6eb8a69561e9e1",
       "version_major": 2,
       "version_minor": 0
      },
      "text/plain": [
       "VBox(children=(Sheet(cells=(Cell(column_end=1, column_start=1, row_end=0, row_start=0, type='numeric', value=1…"
      ]
     },
     "metadata": {},
     "output_type": "display_data"
    }
   ],
   "source": [
    "import ipywidgets as widgets\n",
    "sheet = ipysheet.sheet(rows=3, columns=2, column_headers=False, row_headers=False)\n",
    "cell_a = ipysheet.cell(0, 1, 1, label_left='a')\n",
    "cell_b = ipysheet.cell(1, 1, 2, label_left='b')\n",
    "cell_sum = ipysheet.cell(2, 1, 3, label_left='sum', read_only=True)\n",
    "\n",
    "# create a slider linked to cell a\n",
    "slider = widgets.FloatSlider(min=-10, max=10, description='a')\n",
    "widgets.jslink((cell_a, 'value'), (slider, 'value'))\n",
    "\n",
    "# changes in a or b should trigger this function\n",
    "def calculate(change):\n",
    "    cell_sum.value = cell_a.value + cell_b.value + cell_c.value\n",
    "\n",
    "cell_a.observe(calculate, 'value')\n",
    "cell_b.observe(calculate, 'value')\n",
    "cell_c.observe(calculate, 'value')\n",
    "\n",
    "\n",
    "widgets.VBox([sheet, slider])"
   ]
  },
  {
   "cell_type": "code",
   "execution_count": 26,
   "metadata": {},
   "outputs": [
    {
     "data": {
      "application/vnd.jupyter.widget-view+json": {
       "model_id": "cc8d1817d20a461798a9a1f6686f7c04",
       "version_major": 2,
       "version_minor": 0
      },
      "text/plain": [
       "Sheet(cells=(Cell(column_end=3, column_start=0, row_end=0, row_start=0, squeeze_column=False, style={'backgrou…"
      ]
     },
     "metadata": {},
     "output_type": "display_data"
    }
   ],
   "source": [
    "sheet = ipysheet.sheet(rows=5, columns=4)\n",
    "row = ipysheet.row(0, [0, 1, 2, 3], background_color=\"red\")\n",
    "column = ipysheet.column(1, [\"a\", \"b\", \"c\", \"d\"], row_start=1, background_color=\"green\")\n",
    "cells = ipysheet.cell_range([[\"hi\", \"ola\"], [\"ciao\", \"bonjour\"], [\"hallo\", \"guten tag\"]],\n",
    "                            row_start=1, column_start=2, background_color=\"yellow\")\n",
    "sheet"
   ]
  },
  {
   "cell_type": "code",
   "execution_count": 27,
   "metadata": {},
   "outputs": [
    {
     "data": {
      "application/vnd.jupyter.widget-view+json": {
       "model_id": "c8cafff183754200ba79a726958be3c4",
       "version_major": 2,
       "version_minor": 0
      },
      "text/plain": [
       "VBox(children=(Sheet(cells=(Cell(column_end=1, column_start=1, row_end=0, row_start=0, type='numeric', value=1…"
      ]
     },
     "metadata": {},
     "output_type": "display_data"
    }
   ],
   "source": [
    "import ipywidgets as widgets\n",
    "sheet = ipysheet.sheet(rows=4, columns=2, column_headers=False, row_headers=False)\n",
    "cell_a = ipysheet.cell(0, 1, 1, label_left='a')\n",
    "cell_b = ipysheet.cell(1, 1, 2, label_left='b')\n",
    "cell_c = ipysheet.cell(2, 1, 3, label_left='c')\n",
    "cell_sum = ipysheet.cell(2, 1, 3, label_left='sum', read_only=True)\n",
    "\n",
    "# create a slider linked to cell a\n",
    "slider = widgets.FloatSlider(min=-10, max=10, description='a')\n",
    "widgets.jslink((cell_a, 'value'), (slider, 'value'))\n",
    "\n",
    "@ipysheet.calculation(inputs=[cell_a, cell_b, cell_c], output=cell_sum)\n",
    "def calculate(a, b, c):\n",
    "    return a + b\n",
    "\n",
    "widgets.VBox([sheet, slider])\n",
    "#print(output)"
   ]
  },
  {
   "cell_type": "code",
   "execution_count": 30,
   "metadata": {},
   "outputs": [],
   "source": [
    "jscode_renderer_negative = \"\"\"function (value) {\n",
    "  return {\n",
    "    backgroundColor: value < 0 ?  'red' : 'green'\n",
    "  };\n",
    "}\n",
    "\"\"\"\n",
    "ipysheet.renderer(code=jscode_renderer_negative, name='negative');"
   ]
  },
  {
   "cell_type": "code",
   "execution_count": 31,
   "metadata": {},
   "outputs": [
    {
     "data": {
      "application/vnd.jupyter.widget-view+json": {
       "model_id": "9710a89eb897451ca01d9188b8994b96",
       "version_major": 2,
       "version_minor": 0
      },
      "text/plain": [
       "Sheet(cells=(Cell(column_end=3, column_start=0, renderer='negative', row_end=2, row_start=0, squeeze_column=Fa…"
      ]
     },
     "metadata": {},
     "output_type": "display_data"
    }
   ],
   "source": [
    "import random\n",
    "s = ipysheet.sheet(rows=3, columns=4)\n",
    "data = [[random.randint(-10, 10) for j in range(4)] for j in range(3)]\n",
    "ipysheet.cell_range(data, renderer='negative')\n",
    "s"
   ]
  },
  {
   "cell_type": "code",
   "execution_count": null,
   "metadata": {},
   "outputs": [],
   "source": [
    "# Hier für die Kostenrechnung"
   ]
  },
  {
   "cell_type": "code",
   "execution_count": 32,
   "metadata": {},
   "outputs": [
    {
     "name": "stdout",
     "output_type": "stream",
     "text": [
      "0\n"
     ]
    }
   ],
   "source": [
    "import ipysheet\n",
    "import ipywidgets as widgets\n",
    "sheet = ipysheet.sheet(rows=11, columns=3, column_headers=True, row_headers=False)\n",
    "# ROW / COl / Value / Label\n",
    "cell_a = ipysheet.cell(0, 1,0, label_left='a')\n",
    "cell_b = ipysheet.cell(1, 1, 0, label_left='b')\n",
    "cell_c = ipysheet.cell(2, 1, 0, label_left='c')\n",
    "cell_d = ipysheet.cell(3, 1, 0, label_left='d')\n",
    "cell_e = ipysheet.cell(4, 1, 0, label_left='e')\n",
    "cell_f = ipysheet.cell(5, 1, 0, label_left='f')\n",
    "cell_g = ipysheet.cell(6, 1, 0, label_left='g')\n",
    "cell_h = ipysheet.cell(7, 1, 0, label_left='h')\n",
    "cell_i = ipysheet.cell(8, 1, 0, label_left='i')\n",
    "cell_i = ipysheet.cell(9, 1, 0, label_left='j')\n",
    "cell_sum = ipysheet.cell(10, 1, 0, label_left='sum', read_only=True)\n",
    "\n",
    "@ipysheet.calculation(inputs=[cell_a, cell_b, cell_c], output=cell_sum)\n",
    "def calculate(a, b, c):\n",
    "    return a + b + c\n",
    "\n",
    "widgets.VBox([sheet])\n",
    "print(cell_sum.value)"
   ]
  },
  {
   "cell_type": "code",
   "execution_count": null,
   "metadata": {},
   "outputs": [],
   "source": []
  }
 ],
 "metadata": {
  "kernelspec": {
   "display_name": "Python 3",
   "language": "python",
   "name": "python3"
  },
  "language_info": {
   "codemirror_mode": {
    "name": "ipython",
    "version": 3
   },
   "file_extension": ".py",
   "mimetype": "text/x-python",
   "name": "python",
   "nbconvert_exporter": "python",
   "pygments_lexer": "ipython3",
   "version": "3.7.3"
  }
 },
 "nbformat": 4,
 "nbformat_minor": 2
}
