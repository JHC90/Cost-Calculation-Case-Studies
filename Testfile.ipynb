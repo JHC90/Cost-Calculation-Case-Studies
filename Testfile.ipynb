{
 "cells": [
  {
   "cell_type": "code",
   "execution_count": 15,
   "metadata": {},
   "outputs": [
    {
     "name": "stdout",
     "output_type": "stream",
     "text": [
      "0\n"
     ]
    }
   ],
   "source": [
    "import ipysheet\n",
    "import ipywidgets as widgets\n",
    "sheet = ipysheet.sheet(rows=11, columns=3, column_headers=True, row_headers=False)\n",
    "# ROW / COl / Value / Label\n",
    "cell_a = ipysheet.cell(0, 1,0, label_left='a')\n",
    "cell_b = ipysheet.cell(1, 1, 0, label_left='b')\n",
    "cell_c = ipysheet.cell(2, 1, 0, label_left='c')\n",
    "cell_d = ipysheet.cell(3, 1, 0, label_left='d')\n",
    "cell_e = ipysheet.cell(4, 1, 0, label_left='e')\n",
    "cell_f = ipysheet.cell(5, 1, 0, label_left='f')\n",
    "cell_g = ipysheet.cell(6, 1, 0, label_left='g')\n",
    "cell_h = ipysheet.cell(7, 1, 0, label_left='h')\n",
    "cell_i = ipysheet.cell(8, 1, 0, label_left='i')\n",
    "cell_i = ipysheet.cell(9, 1, 0, label_left='j')\n",
    "cell_sum = ipysheet.cell(10, 1, 0, label_left='sum', read_only=True)\n",
    "\n",
    "@ipysheet.calculation(inputs=[cell_a, cell_b, cell_c], output=cell_sum)\n",
    "def calculate(a, b, c):\n",
    "    return a + b + c\n",
    "\n",
    "widgets.VBox([sheet])\n",
    "print(cell_sum.value)"
   ]
  },
  {
   "cell_type": "code",
   "execution_count": 16,
   "metadata": {},
   "outputs": [
    {
     "name": "stdout",
     "output_type": "stream",
     "text": [
      "0\n"
     ]
    }
   ],
   "source": [
    "print(cell_sum.value)"
   ]
  },
  {
   "cell_type": "code",
   "execution_count": null,
   "metadata": {},
   "outputs": [],
   "source": []
  }
 ],
 "metadata": {
  "kernelspec": {
   "display_name": "Python 3",
   "language": "python",
   "name": "python3"
  }
 },
 "nbformat": 4,
 "nbformat_minor": 2
}
